{
 "cells": [
  {
   "cell_type": "markdown",
   "id": "879bbd0d",
   "metadata": {},
   "source": [
    "# Calculator: ammonia gas\n",
    "Solubilizing ammonium salts in water causes the formation of ammonia. Based on the salt concentration and mass transfer capacity of the system, this ammonia may also be released in the air as a gas. This file helps to give an indication if the environment is safe.\n",
    "\n",
    "To perform experiments safely, this release should stay below the exposure limits:\n",
    "- TWA = 25 ppm (17 mg/m3), 8-hour based\n",
    "- STEL = 35 ppm (27 mg/m3)\n",
    "\n",
    "**Note:** the calculation is done with the initital salt concentration. As liquid-gas mass transfer is taking place, this concentration will decrease. This will then also result in lower mass transfer (less driving force). So, actual release of NH3 gas may be lower in reality.\n",
    "\n",
    "Sources:\n",
    "- Exposure limits: https://www.osha.gov/chemicaldata/623 \n",
    "- kLa correlation: Gas-liquid interface transport - Rob van de Lans - 21-10-09\n",
    "- mass transfer/flux: based on Fick's Law (Lecture 3, Transport & Separation)"
   ]
  },
  {
   "cell_type": "code",
   "execution_count": 1,
   "id": "575ce4cd",
   "metadata": {},
   "outputs": [
    {
     "name": "stdout",
     "output_type": "stream",
     "text": [
      "In column:\n",
      "   pH = 5.47\n",
      "   NH3 concentration = 1.674e-04 mol/L \n",
      "\n",
      "In air:\n",
      "   NH3 (kLa) = 0.304 mg/m3\n",
      "   NH3 (eq.) = 1.949 mg/m3\n"
     ]
    }
   ],
   "source": [
    "import numpy as np\n",
    "from pHcalc import Acid, System\n",
    "\n",
    "MW_NH3 = 17.031 # g/mol\n",
    "H_nh3  = 5.9e-4 # mol/L.Pa\n",
    "p_tot  = 101325 # Pa (1 atm)\n",
    "R = 8.31446261815324 # m3.Pa/K.mol\n",
    "T = 298.15 # K\n",
    "\n",
    "# Airflow through column\n",
    "F_air = 40 /1000/60 # L/min -> m3/s\n",
    "\n",
    "# Concentrations in column\n",
    "c_salt   = 0.5 # M\n",
    "c_carbon = 0   # M Can be adjusted to have real values, will not have significant impact\n",
    "\n",
    "# Dimensions column & workplace\n",
    "h_column = 0.8   # m\n",
    "d_column = 0.192 # m\n",
    "\n",
    "h_kast = 3.0 # m\n",
    "w_kast = 1.0 # m\n",
    "l_kast = 1.5 # m\n",
    "n_vent = 8   # 1/h, ventilatievoud\n",
    "\n",
    "\n",
    "\"\"\" NH3 concentration in column \"\"\"\n",
    "sul = Acid(pKa=[-2.80, 1.99], charge=0, conc=c_salt  ) # H2SO4\n",
    "nh4 = Acid(pKa=9.25         , charge=1, conc=2*c_salt) # 1 mol of salt contains 2 mol NH4+\n",
    "co2 = Acid(pKa=[6.35, 10.33], charge=0, conc=c_carbon) # Open system, CO2 can dissolve in water\n",
    "\n",
    "system = System(sul, nh4, co2)\n",
    "system.pHsolve()\n",
    "pH = system.pH\n",
    "c_nh3 = 2*c_salt*nh4.alpha(system.pH)[1] # mol/L, 1 mol salt contains 2 mol NH4+\n",
    "\n",
    "print('In column:')\n",
    "print(f'   pH = {pH:.2f}')\n",
    "print(f'   NH3 concentration = {c_nh3:.3e} mol/L \\n')\n",
    "\n",
    "\n",
    "\"\"\" NH3 flux to gas phase \"\"\"\n",
    "### Non-equilibrium\n",
    "Ac = np.pi*(d_column/2)**2 # m3\n",
    "V_water = np.pi*h_column*(d_column/2)**2 # m3\n",
    "\n",
    "V_kast = h_kast*w_kast*l_kast # m3\n",
    "\n",
    "v_Gs  = F_air/Ac   # m/s\n",
    "kLa   = 2*v_Gs     # 1/s, homogeneous\n",
    "\n",
    "c_nh3_air = 0 # mol/L, initial NH3 concentration in air\n",
    "J_water = -kLa*(c_nh3_air - c_nh3) * MW_NH3  # g/m3.s, with respect to water\n",
    "J_air = J_water*V_water/V_kast * 1000 * 3600 # g/m3.s -> mg/m3.h, with respect to gas\n",
    "\n",
    "### Equilibrium\n",
    "p_nh3 = c_nh3/H_nh3 # Pa\n",
    "\n",
    "print('In air:')\n",
    "print(f'   NH3 (kLa) = {J_air/n_vent:.3f} mg/m3')\n",
    "print(f'   NH3 (eq.) = {p_nh3/(R*T)*MW_NH3*1000:.3f} mg/m3')"
   ]
  },
  {
   "cell_type": "code",
   "execution_count": null,
   "id": "6dd5b2eb",
   "metadata": {},
   "outputs": [],
   "source": []
  }
 ],
 "metadata": {
  "kernelspec": {
   "display_name": "Python 3 (ipykernel)",
   "language": "python",
   "name": "python3"
  },
  "language_info": {
   "codemirror_mode": {
    "name": "ipython",
    "version": 3
   },
   "file_extension": ".py",
   "mimetype": "text/x-python",
   "name": "python",
   "nbconvert_exporter": "python",
   "pygments_lexer": "ipython3",
   "version": "3.9.12"
  }
 },
 "nbformat": 4,
 "nbformat_minor": 5
}
